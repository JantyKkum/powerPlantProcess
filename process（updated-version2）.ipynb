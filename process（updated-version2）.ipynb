{
 "cells": [
  {
   "cell_type": "code",
   "execution_count": 10,
   "metadata": {},
   "outputs": [
    {
     "name": "stderr",
     "output_type": "stream",
     "text": [
      "C:\\Users\\ljc\\AppData\\Local\\Temp\\ipykernel_18872\\1825189892.py:32: FutureWarning: Setting an item of incompatible dtype is deprecated and will raise in a future error of pandas. Value '13.5' has dtype incompatible with int64, please explicitly cast to a compatible dtype first.\n",
      "  df2.at[j, value2_col] = value1_col[i] / (1000 * n)\n",
      "C:\\Users\\ljc\\AppData\\Local\\Temp\\ipykernel_18872\\1825189892.py:34: FutureWarning: Setting an item of incompatible dtype is deprecated and will raise in a future error of pandas. Value '5991.666666666667' has dtype incompatible with int64, please explicitly cast to a compatible dtype first.\n",
      "  df2.at[j, value3_col] = value4_col[i] * 10 / n\n",
      "C:\\Users\\ljc\\AppData\\Local\\Temp\\ipykernel_18872\\1825189892.py:34: FutureWarning: Setting an item of incompatible dtype is deprecated and will raise in a future error of pandas. Value '1245132.5' has dtype incompatible with int64, please explicitly cast to a compatible dtype first.\n",
      "  df2.at[j, value3_col] = value4_col[i] * 10 / n\n"
     ]
    }
   ],
   "source": [
    "import pandas as pd\n",
    "def compare_name(name1, name2, threshold=0.8):\n",
    "    len1 = len(name1)\n",
    "    len2 = len(name2)\n",
    "    same_len = 0\n",
    "    if len1 == len2:\n",
    "        for i in range(len1):\n",
    "            if name1[i] == name2[i]:\n",
    "                same_len += 1\n",
    "        if same_len / len1 >= threshold:\n",
    "            return True\n",
    "        return False\n",
    "    else:\n",
    "        raise ValueError(\"The length of two names are not equal.\")\n",
    "    \n",
    "def compare(company_name1, df2, company_name2_col, value1_col, value2_col, value3_col, value4_col, threshold=0.75):\n",
    "    match_counts = {}\n",
    "    for i in range(len(company_name1)):\n",
    "        for j in range(len(df2)):\n",
    "            if isinstance(company_name1[i], str) and isinstance(df2[company_name2_col][j], str):\n",
    "                if len(company_name1[i]) == len(df2[company_name2_col][j]):\n",
    "                    if compare_name(company_name1[i], df2[company_name2_col][j], threshold):\n",
    "                        match_counts[df2[company_name2_col][j]] = match_counts.get(df2[company_name2_col][j], 0) + 1\n",
    "    \n",
    "    for i in range(len(company_name1)):\n",
    "        for j in range(len(df2)):\n",
    "            if isinstance(company_name1[i], str) and isinstance(df2[company_name2_col][j], str):\n",
    "                if len(company_name1[i]) == len(df2[company_name2_col][j]):\n",
    "                    if compare_name(company_name1[i], df2[company_name2_col][j], threshold):\n",
    "                        n = match_counts[df2[company_name2_col][j]]  \n",
    "                        if df2.at[j, value2_col] == 0: \n",
    "                            df2.at[j, value2_col] = value1_col[i] / (1000 * n)\n",
    "                        if df2.at[j, value3_col] == 0:  \n",
    "                            df2.at[j, value3_col] = value4_col[i] * 10 / n\n",
    "    for i, name1 in enumerate(company_name1):\n",
    "        if name1 not in match_counts:\n",
    "            new_row = pd.DataFrame([{\n",
    "                company_name2_col: name1,\n",
    "                value2_col: value1_col.iloc[i] / 1000,  \n",
    "                value3_col: value4_col.iloc[i] * 10,  \n",
    "            }])\n",
    "            df2 = pd.concat([df2, new_row], ignore_index=True)\n",
    "    return df2\n",
    "df_processed_data=pd.read_excel('2018陕西.xlsx')\n",
    "df_processed_data.fillna(0, inplace=True)\n",
    "df_Shaanxi=pd.read_excel(\"Rystad - 陕西(终).xlsx\")\n",
    "df_Shaanxi['2018 new Plant Capacity(KW)0.75'] = 0\n",
    "df_Shaanxi['2018 new Generation (MWh)0.75'] = 0\n",
    "df_Shaanxi['2018 new Plant Capacity(KW)1'] = 0\n",
    "df_Shaanxi['2018 new Generation (MWh)1'] = 0\n",
    "df_Shaanxi=compare(df_processed_data['company_name'], df_Shaanxi, '中文名称', df_processed_data['Plant Capacity(KW)'], '2018 new Plant Capacity(KW)0.75','2018 new Generation (MWh)0.75',df_processed_data['Generation (MWh)'])\n",
    "df_Shaanxi=compare(df_processed_data['company_name'], df_Shaanxi, '中文名称', df_processed_data['Plant Capacity(KW)'], '2018 new Plant Capacity(KW)1','2018 new Generation (MWh)1',df_processed_data['Generation (MWh)'],1)\n",
    "df_Shaanxi.to_excel(\"Rystad - 陕西(终).xlsx\", index=False)\n"
   ]
  }
 ],
 "metadata": {
  "kernelspec": {
   "display_name": "Python 3",
   "language": "python",
   "name": "python3"
  },
  "language_info": {
   "codemirror_mode": {
    "name": "ipython",
    "version": 3
   },
   "file_extension": ".py",
   "mimetype": "text/x-python",
   "name": "python",
   "nbconvert_exporter": "python",
   "pygments_lexer": "ipython3",
   "version": "3.11.8"
  }
 },
 "nbformat": 4,
 "nbformat_minor": 2
}
